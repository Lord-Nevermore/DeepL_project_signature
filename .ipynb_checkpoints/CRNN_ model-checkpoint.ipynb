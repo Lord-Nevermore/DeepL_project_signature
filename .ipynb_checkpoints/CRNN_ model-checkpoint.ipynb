{
 "cells": [
  {
   "cell_type": "markdown",
   "id": "313ba76e",
   "metadata": {},
   "source": [
    "## Convolutional Recurrent Neural Network (CRNN)"
   ]
  },
  {
   "cell_type": "code",
   "execution_count": 1,
   "id": "48f019e0",
   "metadata": {},
   "outputs": [
    {
     "name": "stdout",
     "output_type": "stream",
     "text": [
      "Downloading data from https://storage.googleapis.com/tensorflow/tf-keras-datasets/mnist.npz\n",
      "11493376/11490434 [==============================] - 1s 0us/step\n"
     ]
    },
    {
     "name": "stderr",
     "output_type": "stream",
     "text": [
      "2023-04-12 00:53:47.044652: I tensorflow/core/platform/cpu_feature_guard.cc:142] This TensorFlow binary is optimized with oneAPI Deep Neural Network Library (oneDNN) to use the following CPU instructions in performance-critical operations:  SSE4.1 SSE4.2 AVX AVX2 AVX512F FMA\n",
      "To enable them in other operations, rebuild TensorFlow with the appropriate compiler flags.\n",
      "2023-04-12 00:53:47.197338: I tensorflow/compiler/mlir/mlir_graph_optimization_pass.cc:116] None of the MLIR optimization passes are enabled (registered 2)\n",
      "2023-04-12 00:53:47.197735: I tensorflow/core/platform/profile_utils/cpu_utils.cc:112] CPU Frequency: 1999990000 Hz\n"
     ]
    },
    {
     "name": "stdout",
     "output_type": "stream",
     "text": [
      "Model: \"sequential\"\n",
      "_________________________________________________________________\n",
      "Layer (type)                 Output Shape              Param #   \n",
      "=================================================================\n",
      "conv2d (Conv2D)              (None, 26, 26, 32)        320       \n",
      "_________________________________________________________________\n",
      "max_pooling2d (MaxPooling2D) (None, 13, 13, 32)        0         \n",
      "_________________________________________________________________\n",
      "conv2d_1 (Conv2D)            (None, 11, 11, 64)        18496     \n",
      "_________________________________________________________________\n",
      "max_pooling2d_1 (MaxPooling2 (None, 5, 5, 64)          0         \n",
      "_________________________________________________________________\n",
      "conv2d_2 (Conv2D)            (None, 3, 3, 64)          36928     \n",
      "_________________________________________________________________\n",
      "flatten (Flatten)            (None, 576)               0         \n",
      "_________________________________________________________________\n",
      "dense (Dense)                (None, 64)                36928     \n",
      "_________________________________________________________________\n",
      "dense_1 (Dense)              (None, 10)                650       \n",
      "=================================================================\n",
      "Total params: 93,322\n",
      "Trainable params: 93,322\n",
      "Non-trainable params: 0\n",
      "_________________________________________________________________\n",
      "Epoch 1/10\n",
      "750/750 [==============================] - 23s 30ms/step - loss: 0.4709 - accuracy: 0.8498 - val_loss: 0.0654 - val_accuracy: 0.9806\n",
      "Epoch 2/10\n",
      "750/750 [==============================] - 22s 30ms/step - loss: 0.0595 - accuracy: 0.9812 - val_loss: 0.0562 - val_accuracy: 0.9844\n",
      "Epoch 3/10\n",
      "750/750 [==============================] - 22s 29ms/step - loss: 0.0359 - accuracy: 0.9887 - val_loss: 0.0566 - val_accuracy: 0.9837\n",
      "Epoch 4/10\n",
      "750/750 [==============================] - 22s 29ms/step - loss: 0.0264 - accuracy: 0.9915 - val_loss: 0.0397 - val_accuracy: 0.9893\n",
      "Epoch 5/10\n",
      "750/750 [==============================] - 22s 29ms/step - loss: 0.0197 - accuracy: 0.9941 - val_loss: 0.0459 - val_accuracy: 0.9882\n",
      "Epoch 6/10\n",
      "750/750 [==============================] - 22s 29ms/step - loss: 0.0176 - accuracy: 0.9949 - val_loss: 0.0404 - val_accuracy: 0.9892\n",
      "Epoch 7/10\n",
      "750/750 [==============================] - 22s 29ms/step - loss: 0.0113 - accuracy: 0.9965 - val_loss: 0.0484 - val_accuracy: 0.9903\n"
     ]
    },
    {
     "data": {
      "image/png": "[encoded data removed]",
      "text/plain": [
       "<Figure size 432x288 with 1 Axes>"
      ]
     },
     "metadata": {
      "needs_background": "light"
     },
     "output_type": "display_data"
    },
    {
     "data": {
      "image/png": "[encoded data removed]",
      "text/plain": [
       "<Figure size 432x288 with 1 Axes>"
      ]
     },
     "metadata": {
      "needs_background": "light"
     },
     "output_type": "display_data"
    }
   ],
   "source": [
    "import tensorflow as tf\n",
    "from tensorflow import keras\n",
    "from tensorflow.keras import layers\n",
    "\n",
    "# load the data\n",
    "(train_data, train_labels), (test_data, test_labels) = keras.datasets.mnist.load_data()\n",
    "\n",
    "# preprocess the data\n",
    "train_data = train_data.reshape((train_data.shape[0], 28, 28, 1))\n",
    "test_data = test_data.reshape((test_data.shape[0], 28, 28, 1))\n",
    "train_data = train_data.astype('float32') / 255\n",
    "test_data = test_data.astype('float32') / 255\n",
    "\n",
    "# define the model\n",
    "model = keras.Sequential([\n",
    "    layers.Conv2D(32, (3, 3), activation='relu', input_shape=(28, 28, 1)),\n",
    "    layers.MaxPooling2D((2, 2)),\n",
    "    layers.Conv2D(64, (3, 3), activation='relu'),\n",
    "    layers.MaxPooling2D((2, 2)),\n",
    "    layers.Conv2D(64, (3, 3), activation='relu'),\n",
    "    layers.Flatten(),\n",
    "    layers.Dense(64, activation='relu'),\n",
    "    layers.Dense(10, activation='softmax')\n",
    "])\n",
    "\n",
    "model.compile(optimizer='rmsprop',\n",
    "              loss='sparse_categorical_crossentropy',\n",
    "              metrics=['accuracy'])\n",
    "\n",
    "model.summary()\n",
    "\n",
    "# define callbacks\n",
    "early_stop = keras.callbacks.EarlyStopping(monitor='val_loss', patience=3)\n",
    "\n",
    "# train the model\n",
    "history = model.fit(train_data, train_labels, batch_size=64, epochs=10, validation_split=.2, callbacks=[early_stop])\n",
    "\n",
    "# plot accuracy and loss\n",
    "import matplotlib.pyplot as plt\n",
    "\n",
    "acc = history.history['accuracy']\n",
    "val_acc = history.history['val_accuracy']\n",
    "loss = history.history['loss']\n",
    "val_loss = history.history['val_loss']\n",
    "\n",
    "epochs = range(1, len(acc) + 1)\n",
    "\n",
    "plt.plot(epochs, acc, 'bo', label='Training acc')\n",
    "plt.plot(epochs, val_acc, 'b', label='Validation acc')\n",
    "plt.title('Training and validation accuracy')\n",
    "plt.legend()\n",
    "\n",
    "plt.figure()\n",
    "\n",
    "plt.plot(epochs, loss, 'bo', label='Training loss')\n",
    "plt.plot(epochs, val_loss, 'b', label='Validation loss')\n",
    "plt.title('Training and validation loss')\n",
    "plt.legend()\n",
    "\n",
    "plt.show()"
   ]
  },
  {
   "cell_type": "code",
   "execution_count": 2,
   "id": "7248d7c4",
   "metadata": {},
   "outputs": [
    {
     "name": "stdout",
     "output_type": "stream",
     "text": [
      "313/313 [==============================] - 1s 5ms/step - loss: 0.0357 - accuracy: 0.9917\n",
      "Final Loss: 3.57%\n",
      "Final Accuracy: 99.17%\n"
     ]
    }
   ],
   "source": [
    "# final stats(loss and accuracy)\n",
    "final_loss, final_accuracy = model.evaluate(test_data, test_labels)\n",
    "\n",
    "# print the results in percentage form\n",
    "print(\"Final Loss: {:.2f}%\".format(final_loss * 100))\n",
    "print(\"Final Accuracy: {:.2f}%\".format(final_accuracy * 100))"
   ]
  },
  {
   "cell_type": "code",
   "execution_count": null,
   "id": "51247f31",
   "metadata": {},
   "outputs": [],
   "source": []
  }
 ],
 "metadata": {
  "kernelspec": {
   "display_name": "Python 3 (ipykernel)",
   "language": "python",
   "name": "python3"
  },
  "language_info": {
   "codemirror_mode": {
    "name": "ipython",
    "version": 3
   },
   "file_extension": ".py",
   "mimetype": "text/x-python",
   "name": "python",
   "nbconvert_exporter": "python",
   "pygments_lexer": "ipython3",
   "version": "3.9.6"
  }
 },
 "nbformat": 4,
 "nbformat_minor": 5
}
